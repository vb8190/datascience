{
 "cells": [
  {
   "cell_type": "code",
   "execution_count": 7,
   "metadata": {
    "collapsed": false
   },
   "outputs": [
    {
     "name": "stdout",
     "output_type": "stream",
     "text": [
      "no. of Chris training emails: 7936\n",
      "no. of Sara training emails: 7884\n",
      "training time: 142.042 s\n",
      "prediction time: 156.865 s\n",
      "0.984072810011\n"
     ]
    }
   ],
   "source": [
    "#!/usr/bin/python\n",
    "\n",
    "\"\"\" \n",
    "    This is the code to accompany the Lesson 2 (SVM) mini-project.\n",
    "\n",
    "    Use a SVM to identify emails from the Enron corpus by their authors:    \n",
    "    Sara has label 0\n",
    "    Chris has label 1\n",
    "\"\"\"\n",
    "    \n",
    "import sys\n",
    "from time import time\n",
    "sys.path.append(\"../tools/\")\n",
    "from email_preprocess import preprocess\n",
    "from sklearn import svm\n",
    "from sklearn.metrics import accuracy_score\n",
    "\n",
    "\n",
    "### features_train and features_test are the features for the training\n",
    "### and testing datasets, respectively\n",
    "### labels_train and labels_test are the corresponding item labels\n",
    "features_train, features_test, labels_train, labels_test = preprocess()\n",
    "\n",
    "\n",
    "#########################################################\n",
    "### your code goes here ###\n",
    "clf = svm.SVC(kernel='linear')\n",
    "t0 = time()\n",
    "clf.fit(features_train, labels_train)\n",
    "print \"training time:\", round(time()-t0, 3), \"s\"\n",
    "#SVC(C=1.0, cache_size=200, class_weight=None, coef0=0.0,\n",
    " #   decision_function_shape=None, degree=3, gamma='auto', kernel='rbf',\n",
    "  #  max_iter=-1, probability=False, random_state=None, shrinking=True,\n",
    "   # tol=0.001, verbose=False)\n",
    "t1 = time()\n",
    "pred = clf.predict(features_test)\n",
    "print \"prediction time:\", round(time()-t0, 3), \"s\"\n",
    "print accuracy_score(pred,labels_test)\n",
    "#########################################################"
   ]
  },
  {
   "cell_type": "code",
   "execution_count": null,
   "metadata": {
    "collapsed": true
   },
   "outputs": [],
   "source": []
  },
  {
   "cell_type": "code",
   "execution_count": 11,
   "metadata": {
    "collapsed": false
   },
   "outputs": [
    {
     "name": "stdout",
     "output_type": "stream",
     "text": [
      "no. of Chris training emails: 7936\n",
      "no. of Sara training emails: 7884\n",
      "training time: 0.107 s\n",
      "prediction time: 0.983 s\n",
      "0.884527872582\n"
     ]
    }
   ],
   "source": [
    "#Adjusting data set to 1%\n",
    "features_train, features_test, labels_train, labels_test = preprocess()\n",
    "features_train = features_train[:len(features_train)/100] \n",
    "labels_train = labels_train[:len(labels_train)/100] \n",
    "clf = svm.SVC(kernel='linear')\n",
    "t0 = time()\n",
    "clf.fit(features_train, labels_train)\n",
    "print \"training time:\", round(time()-t0, 3), \"s\"\n",
    "#SVC(C=1.0, cache_size=200, class_weight=None, coef0=0.0,\n",
    " #   decision_function_shape=None, degree=3, gamma='auto', kernel='rbf',\n",
    "  #  max_iter=-1, probability=False, random_state=None, shrinking=True,\n",
    "   # tol=0.001, verbose=False)\n",
    "t1 = time()\n",
    "pred = clf.predict(features_test)\n",
    "print \"prediction time:\", round(time()-t0, 3), \"s\"\n",
    "print accuracy_score(pred,labels_test)"
   ]
  },
  {
   "cell_type": "code",
   "execution_count": 12,
   "metadata": {
    "collapsed": false,
    "scrolled": true
   },
   "outputs": [
    {
     "name": "stdout",
     "output_type": "stream",
     "text": [
      "no. of Chris training emails: 7936\n",
      "no. of Sara training emails: 7884\n",
      "training time: 0.09 s\n",
      "prediction time: 1.08 s\n",
      "0.616040955631\n"
     ]
    }
   ],
   "source": [
    "#Adjusting kernel function to RBF\n",
    "features_train, features_test, labels_train, labels_test = preprocess()\n",
    "features_train = features_train[:len(features_train)/100] \n",
    "labels_train = labels_train[:len(labels_train)/100] \n",
    "clf = svm.SVC(kernel='rbf')\n",
    "t0 = time()\n",
    "clf.fit(features_train, labels_train)\n",
    "print \"training time:\", round(time()-t0, 3), \"s\"\n",
    "#SVC(C=1.0, cache_size=200, class_weight=None, coef0=0.0,\n",
    " #   decision_function_shape=None, degree=3, gamma='auto', kernel='rbf',\n",
    "  #  max_iter=-1, probability=False, random_state=None, shrinking=True,\n",
    "   # tol=0.001, verbose=False)\n",
    "t1 = time()\n",
    "pred = clf.predict(features_test)\n",
    "print \"prediction time:\", round(time()-t0, 3), \"s\"\n",
    "print accuracy_score(pred,labels_test)"
   ]
  },
  {
   "cell_type": "code",
   "execution_count": 18,
   "metadata": {
    "collapsed": false
   },
   "outputs": [
    {
     "name": "stdout",
     "output_type": "stream",
     "text": [
      "no. of Chris training emails: 7936\n",
      "no. of Sara training emails: 7884\n",
      "training time: 0.09 s\n",
      "prediction time: 0.888 s\n",
      "0.892491467577\n"
     ]
    }
   ],
   "source": [
    "#Adjusting C value\n",
    "features_train, features_test, labels_train, labels_test = preprocess()\n",
    "features_train = features_train[:len(features_train)/100] \n",
    "labels_train = labels_train[:len(labels_train)/100] \n",
    "clf = svm.SVC(kernel='rbf', C= 10000.0)\n",
    "t0 = time()\n",
    "clf.fit(features_train, labels_train)\n",
    "print \"training time:\", round(time()-t0, 3), \"s\"\n",
    "#SVC(C=1.0, cache_size=200, class_weight=None, coef0=0.0,\n",
    " #   decision_function_shape=None, degree=3, gamma='auto', kernel='rbf',\n",
    "  #  max_iter=-1, probability=False, random_state=None, shrinking=True,\n",
    "   # tol=0.001, verbose=False)\n",
    "t1 = time()\n",
    "pred = clf.predict(features_test)\n",
    "print \"prediction time:\", round(time()-t0, 3), \"s\"\n",
    "print accuracy_score(pred,labels_test)"
   ]
  },
  {
   "cell_type": "code",
   "execution_count": 20,
   "metadata": {
    "collapsed": false
   },
   "outputs": [
    {
     "name": "stdout",
     "output_type": "stream",
     "text": [
      "no. of Chris training emails: 7936\n",
      "no. of Sara training emails: 7884\n",
      "training time: 96.605 s\n",
      "prediction time: 106.469 s\n",
      "0.990898748578\n"
     ]
    }
   ],
   "source": [
    "### Applying tuned values of C and RBF to original data set\n",
    "features_train, features_test, labels_train, labels_test = preprocess()\n",
    "clf = svm.SVC(kernel='rbf', C= 10000.0)\n",
    "t0 = time()\n",
    "clf.fit(features_train, labels_train)\n",
    "print \"training time:\", round(time()-t0, 3), \"s\"\n",
    "#SVC(C=1.0, cache_size=200, class_weight=None, coef0=0.0,\n",
    " #   decision_function_shape=None, degree=3, gamma='auto', kernel='rbf',\n",
    "  #  max_iter=-1, probability=False, random_state=None, shrinking=True,\n",
    "   # tol=0.001, verbose=False)\n",
    "t1 = time()\n",
    "pred = clf.predict(features_test)\n",
    "print \"prediction time:\", round(time()-t0, 3), \"s\"\n",
    "print accuracy_score(pred,labels_test)"
   ]
  },
  {
   "cell_type": "code",
   "execution_count": 30,
   "metadata": {
    "collapsed": false
   },
   "outputs": [
    {
     "name": "stdout",
     "output_type": "stream",
     "text": [
      "no. of Chris training emails: 7936\n",
      "no. of Sara training emails: 7884\n",
      "training time: 0.077 s\n",
      "prediction time: 0.866 s\n",
      "0.892491467577\n",
      "1\n",
      "0\n",
      "1\n"
     ]
    }
   ],
   "source": [
    "### Find 10, 26 and 50 the element\n",
    "features_train, features_test, labels_train, labels_test = preprocess()\n",
    "features_train = features_train[:len(features_train)/100] \n",
    "labels_train = labels_train[:len(labels_train)/100] \n",
    "clf = svm.SVC(kernel='rbf', C= 10000.0)\n",
    "t0 = time()\n",
    "clf.fit(features_train, labels_train)\n",
    "print \"training time:\", round(time()-t0, 3), \"s\"\n",
    "#SVC(C=1.0, cache_size=200, class_weight=None, coef0=0.0,\n",
    " #   decision_function_shape=None, degree=3, gamma='auto', kernel='rbf',\n",
    "  #  max_iter=-1, probability=False, random_state=None, shrinking=True,\n",
    "   # tol=0.001, verbose=False)\n",
    "t1 = time()\n",
    "pred = clf.predict(features_test)\n",
    "print \"prediction time:\", round(time()-t0, 3), \"s\"\n",
    "print accuracy_score(pred,labels_test)\n",
    "\n",
    "\n",
    "tenth = pred[10]\n",
    "twentySixth = pred[26]\n",
    "fifthyith = pred[56]\n",
    "\n",
    "print tenth\n",
    "print twentySixth\n",
    "print fifthyith"
   ]
  },
  {
   "cell_type": "code",
   "execution_count": null,
   "metadata": {
    "collapsed": false
   },
   "outputs": [],
   "source": [
    "#There are over 1700 test events--how many are predicted to be in the “Chris” (1) class? \n",
    "#(Use the RBF kernel, C=10000., and the full training set.)\n",
    "\n",
    "features_train, features_test, labels_train, labels_test = preprocess()\n",
    "clf = svm.SVC(kernel='rbf', C= 10000.0)\n",
    "t0 = time()\n",
    "clf.fit(features_train, labels_train)\n",
    "print \"training time:\", round(time()-t0, 3), \"s\"\n",
    "#SVC(C=1.0, cache_size=200, class_weight=None, coef0=0.0,\n",
    " #   decision_function_shape=None, degree=3, gamma='auto', kernel='rbf',\n",
    "  #  max_iter=-1, probability=False, random_state=None, shrinking=True,\n",
    "   # tol=0.001, verbose=False)\n",
    "t1 = time()\n",
    "pred = clf.predict(features_test)\n",
    "print \"prediction time:\", round(time()-t0, 3), \"s\"\n",
    "print accuracy_score(pred,labels_test)\n",
    "print \"Chris number is =\",(pred == 1).sum()\n"
   ]
  },
  {
   "cell_type": "code",
   "execution_count": null,
   "metadata": {
    "collapsed": false
   },
   "outputs": [],
   "source": []
  }
 ],
 "metadata": {
  "kernelspec": {
   "display_name": "Python 2",
   "language": "python",
   "name": "python2"
  },
  "language_info": {
   "codemirror_mode": {
    "name": "ipython",
    "version": 2
   },
   "file_extension": ".py",
   "mimetype": "text/x-python",
   "name": "python",
   "nbconvert_exporter": "python",
   "pygments_lexer": "ipython2",
   "version": "2.7.11"
  }
 },
 "nbformat": 4,
 "nbformat_minor": 0
}
